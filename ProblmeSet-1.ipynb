{
 "cells": [
  {
   "cell_type": "markdown",
   "id": "06c977f4-2ef8-4b70-8d49-ad1f66a0a2ec",
   "metadata": {},
   "source": [
    "\n",
    "## **Question 1 (Python)**\n",
    "**Identify the data type of each of the following:**\n",
    "\n",
    "1. `5`\n",
    "2. `5.0`\n",
    "3. `5 > 1`\n",
    "4. `'5'`\n",
    "5. `5 * 2`\n",
    "6. `'5' * 2`\n",
    "7. `'5' + '2'`\n",
    "8. `5 / 2`\n",
    "9. `5 % 2`\n",
    "10. `{5, 2, 1}`\n",
    "11. `5 == 3`\n",
    "12. Pi (the number)\n",
    "\n"
   ]
  },
  {
   "cell_type": "markdown",
   "id": "da0183a4-0f5d-4b74-bd27-2014cad23c24",
   "metadata": {},
   "source": [
    "## SOLUTION\n",
    "|Value              | Data Type                                                                              |                \n",
    "| :---              |-----------------:                                                                      |          \n",
    "| 5                 | int  (Integer)                                                                         | \n",
    "| 5.0               | float                                                                                  |  \n",
    "| 5 > 1             | bool  (Boolean)                                                                        |  \n",
    "| '5'               | str   (String)                                                                         |  \n",
    "| 5 * 2             | int  (Integer)                                                                         |   \n",
    "| '5' * 2           | str   (String)                                                                         |  \n",
    "| '5' + '2'         | str   (String)                                                                         | \n",
    "| 5 / 2             | float                                                                                  |\n",
    "| 5 % 2             | int  (Integer)                                                                         |\n",
    "| {5, 2, 1}         | list                                                                                   |  \n",
    "| 5 == 3            | bool  (Boolean)                                                                        |\n",
    "| Pi (the number)   | float                                                                                  |"
   ]
  },
  {
   "cell_type": "markdown",
   "id": "dae932f3-6981-4d42-960a-dcc5b409adcb",
   "metadata": {},
   "source": [
    "## Question 2: C# Expressions"
   ]
  },
  {
   "cell_type": "code",
   "execution_count": null,
   "id": "6b6e4d40-9bbe-40b3-a269-f03ec5b1b50a",
   "metadata": {},
   "outputs": [],
   "source": [
    "//a. How many letters are there in 'Supercalifragilisticexpialidocious'?//\n",
    "\n",
    "string a = \"Supercalifragilisticexpialidocious\";\n",
    "int length = a.Length;\n",
    "Console.WriteLine(length);\n",
    "\n",
    "//b.Does 'Supercalifragilisticexpialidocious' contain 'ice' as a substring?//\n",
    "\n",
    "string word1 = \"Supercalifragilisticexpialidocious\";\n",
    "bool containsIce = word1.Contains(\"ice\");\n",
    "Console.WriteLine(containsIce);\n",
    "\n",
    "//c. Which of the following words is the longest: Supercalifragilisticexpialidocious, Honorificabilitudinitatibus, or Bababadalgharaghtakamminarronnkonn?//\n",
    "\n",
    "      \n",
    "        string b = \"Supercalifragilisticexpialidocious\";\n",
    "        string c = \"Honorificabilitudinitatibus\";\n",
    "        string d = \"Bababadalgharaghtakamminarronnkonn\";\n",
    "\n",
    "        string[] words = { b, c, d };\n",
    "      \n",
    "        int maxLength = words.Max(w => w.Length);\n",
    "\n",
    "        var longestWords = words.Where(w => w.Length == maxLength);\n",
    "\n",
    "        Console.WriteLine(\"The longest word(s): \" + string.Join(\", \", longestWords));\n",
    "\n",
    "\n",
    "//d. Which composer comes first in the dictionary: 'Berlioz', 'Borodin', 'Brian', 'Bartok', 'Bellini', 'Buxtehude', 'Bernstein'. Which one comes last?g?//\n",
    "\n",
    "string[] composers = { \"Berlioz\", \"Borodin\", \"Brian\", \"Bartok\", \"Bellini\", \"Buxtehude\", \"Bernstein\" };\n",
    "Array.Sort(composers);\n",
    "Console.WriteLine(\"First: \" + composers[0]);\n",
    "Console.WriteLine(\"Last: \" + composers[composers.Length - 1]);"
   ]
  },
  {
   "cell_type": "markdown",
   "id": "c9d067be-cc0e-4a2e-bc36-76e1ffcd50b4",
   "metadata": {},
   "source": [
    "## output \n"
   ]
  },
  {
   "cell_type": "markdown",
   "id": "2fd345d4-c20a-4c80-8eb2-7bb3e221b2e3",
   "metadata": {},
   "source": [
    "34\n",
    "True\n",
    "The longest word(s): Supercalifragilisticexpialidocious, Bababadalgharaghtakamminarronnkonn\n",
    "First: Bartok\n",
    "Last: Buxtehude"
   ]
  },
  {
   "cell_type": "markdown",
   "id": "0c243882-421b-4d6b-94ee-8cbc31d49f81",
   "metadata": {},
   "source": [
    "## Question 3: Triangle Area Function"
   ]
  },
  {
   "cell_type": "code",
   "execution_count": null,
   "id": "3d0d956b-d971-4df4-8b8e-3ddd62ff674a",
   "metadata": {},
   "outputs": [],
   "source": [
    "{\n",
    "        double area = triangleArea(2, 2, 2);\n",
    "        Console.WriteLine(\"Area of the triangle: \" + area);\n",
    "    }\n",
    "\n",
    "    static double triangleArea(double a, double b, double c)\n",
    "    {\n",
    "        //semi-perimeter\n",
    "        double s = (a + b + c) / 2;\n",
    "\n",
    "        //area\n",
    "        double area = Math.Sqrt(s * (s - a) * (s - b) * (s - c));\n",
    "\n",
    "        return area;\n",
    "    }"
   ]
  },
  {
   "cell_type": "markdown",
   "id": "b1534693-73b3-428c-b82e-cc3a82c86e06",
   "metadata": {},
   "source": [
    "## OUTPUT\n"
   ]
  },
  {
   "cell_type": "markdown",
   "id": "068ea315-d49b-4e1c-99ac-8def8c673a96",
   "metadata": {},
   "source": [
    "Area of the triangle: 1.7320508075688772"
   ]
  },
  {
   "cell_type": "markdown",
   "id": "a20afdf9-c582-46ab-8272-0ff3548f28f0",
   "metadata": {},
   "source": [
    "## Question 4: Separate Odd and Even Integers"
   ]
  },
  {
   "cell_type": "code",
   "execution_count": null,
   "id": "3e7367de-49b5-4f08-acdb-af73fbfc7a26",
   "metadata": {},
   "outputs": [],
   "source": [
    "int[] inputArray = { 25, 47, 42, 56, 32 };\n",
    "int[] evenNumbers = new int[inputArray.Length];\n",
    "int[] oddNumbers = new int[inputArray.Length];\n",
    "int evenCount = 0, oddCount = 0;\n",
    "foreach (int num in inputArray)\n",
    "{\n",
    "    if (num % 2 == 0)\n",
    "    {\n",
    "        evenNumbers[evenCount++] = num;\n",
    "    }\n",
    "    else\n",
    "    {\n",
    "        oddNumbers[oddCount++] = num;\n",
    "    }\n",
    "}\n",
    " \n",
    "Console.Write(\"The Even elements are: \");\n",
    "for (int i = 0; i < evenCount; i++)\n",
    "{\n",
    "    Console.Write(evenNumbers[i] + \" \");\n",
    "}\n",
    "Console.WriteLine();\n",
    "Console.Write(\"The Odd elements are: \");\n",
    "for (int i = 0; i < oddCount; i++)\n",
    "{\n",
    "    Console.Write(oddNumbers[i] + \" \");\n",
    "}\n",
    "Console.WriteLine();"
   ]
  },
  {
   "cell_type": "markdown",
   "id": "3e4c4bea-2384-40df-a32c-76de3eacfa26",
   "metadata": {},
   "source": [
    "## OUTPUT"
   ]
  },
  {
   "cell_type": "markdown",
   "id": "8aaf89b9-cead-4bc6-a0a6-2037aa0505d5",
   "metadata": {},
   "source": [
    "The Even elements are: 42 56 32 \n",
    "The Odd elements are: 25 47 "
   ]
  },
  {
   "cell_type": "markdown",
   "id": "b0206ac3-9ee2-46e7-873e-85f8e73cf88b",
   "metadata": {},
   "source": [
    "## Question 5 C#\n",
    "a. Write a function inside(x,y,x1,y1,x2,y2) that returns True or False depending on whether the point (x,y) lies in the rectangle with lower left corner (x1,y1) and upper right corner (x2,y2).> inside(1,1,0,0,2,3)\n",
    "Tr>>> inside(-1,-1,0,0,2,3)\n",
    "\n",
    "\n",
    "b. Use function inside() from part a. to write an expression that tests whether the point (1,1) lies in both of the following rectangles: one with lower left corner (0.3, 0.5) and upper right corner (1.1, 0.7) and the other with lower left corner (0.5, 0.2) and upper right corner (1.1, 2)1, 2)."
   ]
  },
  {
   "cell_type": "code",
   "execution_count": null,
   "id": "496d71a6-43e6-492e-bdc2-be2bdcca3670",
   "metadata": {},
   "outputs": [],
   "source": [
    "{\n",
    "        Console.WriteLine(Inside(1, 1, 0, 0, 2, 3)); \n",
    "        Console.WriteLine(Inside(-1, -1, 0, 0, 2, 3));\n",
    "\n",
    "        bool inFirstRectangle = Inside(1, 1, 0.3, 0.5, 1.1, 0.7);\n",
    "        bool inSecondRectangle = Inside(1, 1, 0.5, 0.2, 1.1, 2);\n",
    "\n",
    "        Console.WriteLine($\"Point (1, 1) in first rectangle: {inFirstRectangle}\");\n",
    "        Console.WriteLine($\"Point (1, 1) in second rectangle: {inSecondRectangle}\");\n",
    "    }\n",
    "\n",
    "    static bool Inside(double x, double y, double x1, double y1, double x2, double y2)\n",
    "    {\n",
    "        return (x >= x1 && x <= x2 && y >= y1 && y <= y2);\n",
    "    }"
   ]
  },
  {
   "cell_type": "markdown",
   "id": "c1225303-bf14-460b-af5b-cfd9666facc6",
   "metadata": {},
   "source": [
    "## OUTPUT\n"
   ]
  },
  {
   "cell_type": "markdown",
   "id": "9439355a-0e8e-4d71-b350-9803ff6f54e0",
   "metadata": {},
   "source": [
    "True\n",
    "False\n",
    "Point (1, 1) in first rectangle: False\n",
    "Point (1, 1) in second rectangle: True"
   ]
  },
  {
   "cell_type": "markdown",
   "id": "10344933-817a-46be-989f-d3870505e1ec",
   "metadata": {},
   "source": [
    "## Question 6 Python\n",
    "You can turn a word into pig-Latin using the following two rules (simplified):\n",
    "• If the word starts with a consonant, move that letter to the end and append 'ay'. For example, 'happy' becomes 'appyhay' and 'pencil' becomes 'encilpay'.\n",
    "• If the word starts with a vowel, simply append 'way' to the end of the word. For example, 'enter' becomes 'enterway' and 'other' becomes 'otherway' . For our purposes, there are 5 vowels: a, e, i, o, u (so we count y as a consonant).\n",
    "Write a function pig() that takes a word (i.e., a string) as input and returns its pig- Latin form. Your function should still work if the input word contains upper case characters. Your output should always be lower case however.\n",
    "pig('happy') 'appyhay'\n",
    "pig('Enter') 'enterway'"
   ]
  },
  {
   "cell_type": "code",
   "execution_count": null,
   "id": "b0189e8e-1ab5-48ba-8083-a65e3c061c5b",
   "metadata": {},
   "outputs": [],
   "source": [
    "def pig(word):\n",
    "    word = word.lower()\n",
    "\n",
    "    if word[0] in 'aeiou':\n",
    "        return word + 'way' \n",
    "    else:\n",
    "        return word[1:] + word[0] + 'ay' \n",
    "\n",
    "print(pig('happy'))  \n",
    "print(pig('Enter'))"
   ]
  },
  {
   "cell_type": "markdown",
   "id": "d8fba3bf-7bcb-44e0-b9de-9d7f06ed5558",
   "metadata": {},
   "source": [
    "## OUTPUT"
   ]
  },
  {
   "cell_type": "markdown",
   "id": "e6e04733-cccc-4b59-be8a-8c776390ee06",
   "metadata": {},
   "source": [
    "appyhay\n",
    "enterway"
   ]
  },
  {
   "cell_type": "markdown",
   "id": "c1d736c5-5983-4799-b9fc-2ea4564b0968",
   "metadata": {},
   "source": [
    "## Question 7 Python\n",
    "File bloodtype1.txt records blood-types of patients (A, B, AB, O or OO) at a clinic. Write a function bldcount() that reads the file with name name and reports (i.e., prints) how many patients there are in each bloodtype.\n",
    "bldcount('bloodtype.txt')\n",
    "There are 10 patients of blood type A.\n",
    "There is one patient of blood type B.\n",
    "There are 10 patients of blood type AB.\n",
    "There are 12 patients of blood type O.\n",
    "There are no patients of blood type OO."
   ]
  },
  {
   "cell_type": "code",
   "execution_count": null,
   "id": "0cbaa8ed-5700-483d-8278-22e183254588",
   "metadata": {},
   "outputs": [],
   "source": [
    "def bldcount(filename):\n",
    "    blood_types = ['A', 'B', 'AB', 'O', 'OO']\n",
    "    blood_count = {bt: 0 for bt in blood_types}\n",
    "    \n",
    "    with open(filename, 'r') as file:\n",
    "        blood_data = file.read().split() \n",
    "    for blood in blood_data:\n",
    "        if blood in blood_count:\n",
    "            blood_count[blood] += 1\n",
    "    for blood_type in blood_types:\n",
    "        count = blood_count[blood_type]\n",
    "        if count == 0:\n",
    "            print(f\"There are no patients of blood type {blood_type}.\")\n",
    "        elif count == 1:\n",
    "            print(f\"There is one patient of blood type {blood_type}.\")\n",
    "        else:\n",
    "            print(f\"There are {count} patients of blood type {blood_type}.\")\n",
    "\n",
    "bldcount('bloodtype1.txt')"
   ]
  },
  {
   "cell_type": "markdown",
   "id": "770cef4e-781d-494a-bc44-081f004a5873",
   "metadata": {},
   "source": [
    "## OUTPUT"
   ]
  },
  {
   "cell_type": "markdown",
   "id": "c2a70d85-88db-47ef-8992-984efc34cff8",
   "metadata": {},
   "source": [
    "There are 10 patients of blood type A.\n",
    "There is one patient of blood type B.\n",
    "There are 10 patients of blood type AB.\n",
    "There are 12 patients of blood type O.\n",
    "There are no patients of blood type OO."
   ]
  },
  {
   "cell_type": "markdown",
   "id": "5c724cd1-5f26-4140-9471-0ad42cc36c48",
   "metadata": {},
   "source": [
    "## Question 8 Python\n",
    "\n",
    "Write a funtion curconv() that takes input:\n",
    "a currency represented using a string (e.g., 'JPY' for the Japanese Yen or 'EUR' for the Euro).\n",
    "\n",
    "an amount and then converts and returns the amount in UD dollars.\n",
    "\n",
    "curconv('EUR', 100)\n",
    "\n",
    "122.96544\n",
    "\n",
    "curconv('JPY', 100)\n",
    "\n",
    "1.241401\n",
    "\n",
    "The currency rates you will need are stored in file curAUD 1.0345157 Australian Dollar\n",
    "CHF 1.0237414 Swiss Franc\n",
    "CNY 0.1550176 Chinese Yuan\n",
    "DKK 0.1651442 Danish Krone\n",
    "EUR 1.2296544 Euro\n",
    "GBP 1.5550989 British Pound\n",
    "HKD 0.1270207 Hong Kong Dollar\n",
    "INR 0.0177643 Indian Rupee\n",
    "JPY 0.01241401 Japanese Yen\n",
    "MXN 0.0751848 Mexican Peso\n",
    "MYR 0.3145411 Malaysian Ringgit\n",
    "NOK 0.1677063 Norwegian Krone\n",
    "NZD 0.8003591 New Zealand Dollar\n",
    "PHP 0.0233234 Philippine Peso\n",
    "SEK 0.148269 Swedish Krona\n",
    "SGD 0.788871 Singapore Dollar\n",
    "THB 0.0313789 Thai Bahthinese YuanDollar\n",
    "THB\n",
    "0.0313789\n",
    "Thai Baht"
   ]
  },
  {
   "cell_type": "code",
   "execution_count": null,
   "id": "c315e407-8007-4fc2-a838-e2e3913c3848",
   "metadata": {},
   "outputs": [],
   "source": [
    "def curconv(currency, amount):\n",
    "    rate_currency = {}\n",
    "    \n",
    "    with open('currencies.txt', 'r') as file:\n",
    "        lines = file.readlines()\n",
    "        for line in lines:\n",
    "            parts = line.split()\n",
    "            if len(parts) >= 2:\n",
    "                code = parts[0]\n",
    "                rate = float(parts[1])\n",
    "                rate_currency[code] = rate\n",
    "    \n",
    "    if currency in rate_currency:\n",
    "        return amount * rate_currency[currency]\n",
    "    else:\n",
    "        raise ValueError(\"Currency not found.\")\n",
    "print(curconv('EUR', 100))  \n",
    "print(curconv('JPY', 100))"
   ]
  },
  {
   "cell_type": "markdown",
   "id": "c43b892f-8ea4-401e-a809-a7d8b09cc0b6",
   "metadata": {},
   "source": [
    "## OUTPUT"
   ]
  },
  {
   "cell_type": "markdown",
   "id": "03b3121e-1a01-4e8c-a2f2-c38cebdcbb94",
   "metadata": {},
   "source": [
    "122.96544\n",
    "1.241401"
   ]
  },
  {
   "cell_type": "markdown",
   "id": "66599795-8fc8-4c79-b51c-4a4b13c52419",
   "metadata": {},
   "source": [
    "## QUESTION 9\n",
    "Each of the following will cause an exception (an error). Identify what type of exception each will cause.\n",
    "Trying to add incompatible variables, as in adding 6 + ‘a’\n",
    "\n",
    "Referring to the 12th item of a list that has only 10 items\n",
    "\n",
    "Using a value that is out of range for a function’s input, such as calling math.sqrt( 1.0)\n",
    "\n",
    "Using an undeclared variable, such as print(x) when x has not been defined\n",
    "\n",
    "Trying to open a file that does not exist, such as mistyping the file name or looking in the wrong directory"
   ]
  },
  {
   "cell_type": "code",
   "execution_count": null,
   "id": "ae4b9c10-2798-423a-91f1-ec8489db1137",
   "metadata": {},
   "outputs": [],
   "source": [
    "•\tTypeError: Occurs when incompatible data types are used in an operation, such as adding a number and a string.\n",
    "•\tIndexError: Occurs when trying to access an element of a list or other sequence using an invalid index.\n",
    "•\tValueError: Occurs when a function is called with an argument that is not of the expected type or is outside of the valid range.\n",
    "•\tNameError: Occurs when a variable is used before it has been defined.\n",
    "•\tFileNotFoundError: Occurs when a file cannot be found or opened."
   ]
  },
  {
   "cell_type": "markdown",
   "id": "e4008518-d055-4c62-a711-9070274fd579",
   "metadata": {},
   "source": [
    "## Question 10 Python\n",
    "Encryption is the process of hiding the meaning of a text by substituting letters in the message with other letters, according to some system. If the process is successful, no one but the intended recipient can understand the encrypted message. Cryptanalysis refers to attempts to undo the encryption, even if some details of the encryption are unknown (for example, if an encrypted message has been intercepted). The first step of cryptanalysis is often to build up a table of letter frequencies in the encrypted text. Assume that the string letters is already defined as 'abcdefghijklmnopqrstuvwxyz'. Write a function called frequencies() that takes a string as its only parameter, and returns a list of integers, showing the number of times each character appears in the text. Your function may ignore any characters that are not in letters.\n",
    ">> frequencies('The quick red fox got bored and went home.') [1, 1, 1, 3, 5, 1, 1, 2, 1, 0, 1, 0, 1, 2, 4, 0, 1, 2, 0, 2,\n",
    "1, 0, 1, 1, 0,\n",
    ">>> frequencies('apple')"
   ]
  },
  {
   "cell_type": "code",
   "execution_count": null,
   "id": "f110e8a7-2c97-41b9-b068-90c6baf6f0c2",
   "metadata": {},
   "outputs": [],
   "source": [
    "def frequencies(text):\n",
    "    letters = 'abcdefghijklmnopqrstuvwxyz'\n",
    "    \n",
    "    freq = [0] * 26  \n",
    "\n",
    "    text = text.lower()\n",
    "\n",
    "    for char in text:\n",
    "        if char in letters:\n",
    "            index = letters.index(char) \n",
    "            freq[index] += 1  \n",
    "\n",
    "    return freq\n",
    "\n",
    "#Execution\n",
    "print(frequencies('The quick red fox got bored and went home.'))\n",
    "print(frequencies('apple'))"
   ]
  },
  {
   "cell_type": "markdown",
   "id": "7199115c-0816-4f92-af8d-ed12671b2551",
   "metadata": {},
   "source": [
    "## OUTPUT"
   ]
  },
  {
   "cell_type": "markdown",
   "id": "298ea52f-81fd-4cae-8a20-98d4cb3c94f6",
   "metadata": {},
   "source": [
    "[1, 1, 1, 3, 5, 1, 1, 2, 1, 0, 1, 0, 1, 2, 4, 0, 1, 2, 0, 3, 1, 0, 1, 1, 0, 0]\n",
    "[1, 0, 0, 0, 1, 0, 0, 0, 0, 0, 0, 1, 0, 0, 0, 2, 0, 0, 0, 0, 0, 0, 0, 0, 0, 0]"
   ]
  },
  {
   "cell_type": "code",
   "execution_count": null,
   "id": "c482575f-e8ff-4126-acea-7124db142109",
   "metadata": {},
   "outputs": [],
   "source": []
  }
 ],
 "metadata": {
  "kernelspec": {
   "display_name": "Python 3 (ipykernel)",
   "language": "python",
   "name": "python3"
  },
  "language_info": {
   "codemirror_mode": {
    "name": "ipython",
    "version": 3
   },
   "file_extension": ".py",
   "mimetype": "text/x-python",
   "name": "python",
   "nbconvert_exporter": "python",
   "pygments_lexer": "ipython3",
   "version": "3.12.4"
  }
 },
 "nbformat": 4,
 "nbformat_minor": 5
}
